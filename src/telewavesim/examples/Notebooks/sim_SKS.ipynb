{
 "cells": [
  {
   "cell_type": "markdown",
   "metadata": {},
   "source": [
    "# Example 3: Simulating SKS splitting"
   ]
  },
  {
   "cell_type": "markdown",
   "metadata": {},
   "source": [
    "In this example we generate core-refracted teleseismic shear waves (e.g., SKS, SKKS) to examine the effect of shear wave splitting through anisotropic media. See the model file for details. \n",
    "\n",
    "Start by importing the necessary modules"
   ]
  },
  {
   "cell_type": "code",
   "execution_count": 1,
   "metadata": {},
   "outputs": [],
   "source": [
    "import numpy as np\n",
    "from obspy.core import Stream\n",
    "from obspy.signal.rotate import rotate_ne_rt\n",
    "from telewavesim import utils as ut\n",
    "from telewavesim import wiggle as wg"
   ]
  },
  {
   "cell_type": "markdown",
   "metadata": {},
   "source": [
    "Select the model file:"
   ]
  },
  {
   "cell_type": "code",
   "execution_count": 2,
   "metadata": {},
   "outputs": [],
   "source": [
    "modfile = '../models/model_SKS.txt'"
   ]
  },
  {
   "cell_type": "markdown",
   "metadata": {},
   "source": [
    "Select the type of incident wave - options are `'P'`, `'SV'`, `'SH'`, or `'Si'`, which is an isotropic S-wave source. SKS waves are SV polarized, so select `'SV'`.\n",
    "\n",
    "<div class=\"alert alert-info\">\n",
    "  <strong>Info!</strong> Note that you could select 'P' and examine long-period P-wave polarization! In this case you should consider plotting the 3 Z-R-T components - there is yet no plotting script to do that though.\n",
    "</div>"
   ]
  },
  {
   "cell_type": "code",
   "execution_count": 3,
   "metadata": {},
   "outputs": [],
   "source": [
    "wvtype = 'SV'"
   ]
  },
  {
   "cell_type": "markdown",
   "metadata": {},
   "source": [
    "Next we use variables to define the desired time series.\n",
    "\n",
    "<div class=\"alert alert-warning\">\n",
    "  <strong>Warning!</strong> Be careful to use a total length of time large enough to avoid wrap around effects. Sometimes if you see signals arriving at aberrant (early) times, try with either (or both) a greater number of samples or higher sample distance.\n",
    "</div>"
   ]
  },
  {
   "cell_type": "code",
   "execution_count": 4,
   "metadata": {},
   "outputs": [],
   "source": [
    "npts = 3000 # Number of samples\n",
    "dt = 0.05   # Sample distance in seconds"
   ]
  },
  {
   "cell_type": "markdown",
   "metadata": {},
   "source": [
    "Now specify the parameters of the incident wavefield in terms of a horizontal slowness and back-azimuth. In this example the slowness won't change, so we can pass it as a global variable now. The back-azimuth will range from 0 to 360 degrees with a 10-degree increment, so we define a `np.ndarray` for this variable and do not yet pass it as a global variable."
   ]
  },
  {
   "cell_type": "code",
   "execution_count": 5,
   "metadata": {},
   "outputs": [],
   "source": [
    "slow = 0.04 # Horizontal slowness (or ray parameter) in s/km \n",
    "baz = np.arange(0., 360., 10.)"
   ]
  },
  {
   "cell_type": "markdown",
   "metadata": {},
   "source": [
    "Read the model parameters from the model file and return Model object. Up to here, the steps could have been performed in no particular order, except the name of the file that needs to be defined before the call to `read_model()`"
   ]
  },
  {
   "cell_type": "code",
   "execution_count": 6,
   "metadata": {},
   "outputs": [],
   "source": [
    "model = ut.read_model(modfile)"
   ]
  },
  {
   "cell_type": "markdown",
   "metadata": {},
   "source": [
    "The following step is useful for plotting the plane wave seismograms with respect to the predicted propagation time through the model (from lowermost interface up to the seafloor). Since we are doing SKS wave modeling, we are interested in plane wave seismograms so let's calculate it."
   ]
  },
  {
   "cell_type": "code",
   "execution_count": 7,
   "metadata": {},
   "outputs": [
    {
     "name": "stdout",
     "output_type": "stream",
     "text": [
      "Predicted propagation time from model: 21.6 sec\n"
     ]
    }
   ],
   "source": [
    "t1 = ut.calc_ttime(model, slow, wvtype=wvtype)\n",
    "print('Predicted propagation time from model: {0:4.1f} sec'.format(t1))"
   ]
  },
  {
   "cell_type": "markdown",
   "metadata": {},
   "source": [
    "As we need to loop through back-azimuth values, we will initialize empty `Stream` objects to store the traces from the output of the main routine. "
   ]
  },
  {
   "cell_type": "code",
   "execution_count": 8,
   "metadata": {},
   "outputs": [],
   "source": [
    "trR = Stream(); trT = Stream()"
   ]
  },
  {
   "cell_type": "markdown",
   "metadata": {},
   "source": [
    "Now the main loop over back-azimuths where all calculations are done - self explanatory"
   ]
  },
  {
   "cell_type": "code",
   "execution_count": 9,
   "metadata": {},
   "outputs": [],
   "source": [
    "# Loop over range of data \n",
    "for bb in baz:\n",
    "\n",
    "    # Calculate the plane wave seismograms\n",
    "    trxyz = ut.run_plane(model, slow, npts, dt, bb, wvtype=wvtype)\n",
    "\n",
    "    # Extract East, North and Vertical\n",
    "    ntr = trxyz[0]\n",
    "    etr = trxyz[1]\n",
    "    ztr = trxyz[2]\n",
    "\n",
    "    # Copy to radial and transverse\n",
    "    rtr = ntr.copy()\n",
    "    ttr = etr.copy()\n",
    "\n",
    "    # Rotate to radial and transverse\n",
    "    rtr.data, ttr.data = rotate_ne_rt(ntr.data, etr.data, bb)\n",
    "\n",
    "    # Append to streams\n",
    "    trR.append(rtr)\n",
    "    trT.append(ttr)"
   ]
  },
  {
   "cell_type": "markdown",
   "metadata": {},
   "source": [
    "The result of the previous loop is a set of radial and transverse seismograms. We simply filter the `Stream` objects using some frequency corners to simulate the frequency content of SKS waves"
   ]
  },
  {
   "cell_type": "code",
   "execution_count": 10,
   "metadata": {},
   "outputs": [
    {
     "data": {
      "text/plain": [
       "36 Trace(s) in Stream:\n",
       "\n",
       "... | 1970-01-01T00:00:00.000000Z - 1970-01-01T00:02:29.950000Z | 20.0 Hz, 3000 samples\n",
       "...\n",
       "(34 other traces)\n",
       "...\n",
       "... | 1970-01-01T00:00:00.000000Z - 1970-01-01T00:02:29.950000Z | 20.0 Hz, 3000 samples\n",
       "\n",
       "[Use \"print(Stream.__str__(extended=True))\" to print all Traces]"
      ]
     },
     "execution_count": 10,
     "metadata": {},
     "output_type": "execute_result"
    }
   ],
   "source": [
    "# Set frequency corners in Hz\n",
    "f1 = 0.01\n",
    "f2 = 0.2\n",
    "\n",
    "# Filter to get wave-like traces\n",
    "trR.filter('bandpass',freqmin=f1, freqmax=f2, corners=2, zerophase=True)\n",
    "trT.filter('bandpass',freqmin=f1, freqmax=f2, corners=2, zerophase=True)"
   ]
  },
  {
   "cell_type": "raw",
   "metadata": {},
   "source": [
    "Now plot the result as wiggles, sorted by back-azimuth. "
   ]
  },
  {
   "cell_type": "code",
   "execution_count": 11,
   "metadata": {},
   "outputs": [
    {
     "name": "stdout",
     "output_type": "stream",
     "text": [
      "\n",
      "Plotting Wiggles by baz\n"
     ]
    },
    {
     "data": {
      "image/png": "[encoded data removed]",
      "text/plain": [
       "<Figure size 432x288 with 2 Axes>"
      ]
     },
     "metadata": {
      "needs_background": "light"
     },
     "output_type": "display_data"
    }
   ],
   "source": [
    "# Plot as wiggles\n",
    "wg.pw_wiggles_baz(trR, trT, 'test', btyp='baz', scale=0.05,\n",
    "                  t1=t1, tmin=0., tmax=40, save=False,\n",
    "                  ftitle='sks', wvtype='SV')"
   ]
  },
  {
   "cell_type": "markdown",
   "metadata": {},
   "source": [
    "And Voilà! \n",
    "\n",
    "Can you find the fast direction and approximate delay time? Easy from the plot of radial components. Null measurements are also quite obvious from the absence of signal on the transverse component at back-azimtuths corresponding to the fast and slow axes. In this example the anisotropic layer is defined by hexagonal symmetry with a fast axis and 10% anisotropy. You can play with the model to have two anisotropic layers with different fast axis orientations, or use anisotropic elastic tensors determined in the lab (e.g., use `'ol'` (abbreviation for 'olivine') instead of `'tri'` in the definition of the layer in the model file). Enjoy!"
   ]
  }
 ],
 "metadata": {
  "kernelspec": {
   "display_name": "Python 3",
   "language": "python",
   "name": "python3"
  },
  "language_info": {
   "codemirror_mode": {
    "name": "ipython",
    "version": 3
   },
   "file_extension": ".py",
   "mimetype": "text/x-python",
   "name": "python",
   "nbconvert_exporter": "python",
   "pygments_lexer": "ipython3",
   "version": "3.7.3"
  }
 },
 "nbformat": 4,
 "nbformat_minor": 2
}
